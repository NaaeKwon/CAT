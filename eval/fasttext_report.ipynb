{
 "cells": [
  {
   "cell_type": "code",
   "execution_count": null,
   "metadata": {},
   "outputs": [],
   "source": [
    "import fasttext"
   ]
  },
  {
   "cell_type": "code",
   "execution_count": null,
   "metadata": {},
   "outputs": [],
   "source": [
    "# case of multi-class\n",
    "model = fasttext.train_supervised('./pre_file/am_train_ft.txt') # version of amazon\n",
    "model = fasttext.train_supervised('./pre_file/renew_ytrain.txt') # version of yelp\n",
    "print(model.labels)"
   ]
  },
  {
   "cell_type": "code",
   "execution_count": null,
   "metadata": {},
   "outputs": [],
   "source": [
    "# case of binary class\n",
    "model1 = fasttext.train_supervised('./pre_file/am_train_ft15.txt')\n",
    "model1 = fasttext.train_supervised('./pre_file/renew_y_train15.txt')\n",
    "print(model.labels)"
   ]
  },
  {
   "cell_type": "code",
   "execution_count": null,
   "metadata": {},
   "outputs": [],
   "source": [
    "def print_results(N, p, r):\n",
    "    print(\"N\\t\" + str(N))\n",
    "    print(\"P@{}\\t{:.3f}\".format(1, p))\n",
    "    print(\"R@{}\\t{:.3f}\".format(1, r))"
   ]
  },
  {
   "cell_type": "code",
   "execution_count": null,
   "metadata": {},
   "outputs": [],
   "source": [
    "# for checking the performance of trained model\n",
    "# input is the form of fasttext format (ex. __label__1 at the front)\n",
    "print_results(*model.test('./pre_file/am_train_ft.txt'))\n",
    "print_results(*model.test('./pre_file/renew_ytrain.txt'))\n",
    "print_results(*model1.test('./pre_file/am_train_ft15.txt'))\n",
    "print_results(*model1.test('./pre_file/renew_ytrain15.txt'))"
   ]
  },
  {
   "cell_type": "code",
   "execution_count": null,
   "metadata": {},
   "outputs": [],
   "source": [
    "# save fasttext model: choose the model you want to save\n",
    "model.save_model('ft_train.bin')\n",
    "model1.save_model('ft_train15.bin')"
   ]
  },
  {
   "cell_type": "code",
   "execution_count": null,
   "metadata": {},
   "outputs": [],
   "source": [
    "print(\"fasttext result of the input data\")\n",
    "# change the file path due to yours (you should change the file into fasttext form first)\n",
    "print_results(*model.test('./ft.txt'))\n",
    "print_results(*model1.test('./ft15.txt'))"
   ]
  }
 ],
 "metadata": {
  "kernelspec": {
   "display_name": "sttrans",
   "language": "python",
   "name": "python3"
  },
  "language_info": {
   "codemirror_mode": {
    "name": "ipython",
    "version": 3
   },
   "file_extension": ".py",
   "mimetype": "text/x-python",
   "name": "python",
   "nbconvert_exporter": "python",
   "pygments_lexer": "ipython3",
   "version": "3.8.16"
  },
  "orig_nbformat": 4
 },
 "nbformat": 4,
 "nbformat_minor": 2
}
